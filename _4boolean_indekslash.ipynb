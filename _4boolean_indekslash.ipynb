{
  "nbformat": 4,
  "nbformat_minor": 0,
  "metadata": {
    "colab": {
      "provenance": [],
      "authorship_tag": "ABX9TyM9dO6M1QAwBKUqTH7Oc7OI",
      "include_colab_link": true
    },
    "kernelspec": {
      "name": "python3",
      "display_name": "Python 3"
    },
    "language_info": {
      "name": "python"
    }
  },
  "cells": [
    {
      "cell_type": "markdown",
      "metadata": {
        "id": "view-in-github",
        "colab_type": "text"
      },
      "source": [
        "<a href=\"https://colab.research.google.com/github/Almattony/Data-science_numpy/blob/main/_4boolean_indekslash.ipynb\" target=\"_parent\"><img src=\"https://colab.research.google.com/assets/colab-badge.svg\" alt=\"Open In Colab\"/></a>"
      ]
    },
    {
      "cell_type": "code",
      "execution_count": 1,
      "metadata": {
        "id": "bT5VMM3mfWko"
      },
      "outputs": [],
      "source": [
        "import numpy as np"
      ]
    },
    {
      "cell_type": "code",
      "source": [
        "names = np.array(['Hasan', 'Husan', 'Mirzabek', 'Elyor', 'Hasan', 'Javohir', 'Elyor'])\n",
        "names"
      ],
      "metadata": {
        "colab": {
          "base_uri": "https://localhost:8080/"
        },
        "id": "plubAIxJfjYL",
        "outputId": "d9533761-066a-4b72-96b5-5410f0aa5fbc"
      },
      "execution_count": 2,
      "outputs": [
        {
          "output_type": "execute_result",
          "data": {
            "text/plain": [
              "array(['Hasan', 'Husan', 'Mirzabek', 'Elyor', 'Hasan', 'Javohir', 'Elyor'],\n",
              "      dtype='<U8')"
            ]
          },
          "metadata": {},
          "execution_count": 2
        }
      ]
    },
    {
      "cell_type": "code",
      "source": [
        "data = np.random.randn(7, 4)\n",
        "data"
      ],
      "metadata": {
        "colab": {
          "base_uri": "https://localhost:8080/"
        },
        "id": "gT5dMrhCfw22",
        "outputId": "78a22c24-be5b-4d8c-faaf-c5258f66dc11"
      },
      "execution_count": 3,
      "outputs": [
        {
          "output_type": "execute_result",
          "data": {
            "text/plain": [
              "array([[ 0.12194904,  0.97486309,  1.05364348, -0.88595434],\n",
              "       [-1.38534694, -0.51530714,  0.14284457,  0.19179314],\n",
              "       [-0.43527724,  0.30184811, -1.64425482,  0.17216168],\n",
              "       [-1.63886384,  0.69013315,  0.57289597, -1.07862725],\n",
              "       [ 0.00818903,  0.1306919 ,  1.8499444 ,  1.08680961],\n",
              "       [-0.28880973,  0.25855571, -0.29687497, -0.3645353 ],\n",
              "       [ 0.36467195,  0.13818657, -1.57613735, -0.12333191]])"
            ]
          },
          "metadata": {},
          "execution_count": 3
        }
      ]
    },
    {
      "cell_type": "code",
      "source": [
        "names == 'Hasan'"
      ],
      "metadata": {
        "colab": {
          "base_uri": "https://localhost:8080/"
        },
        "id": "mX1MD0aVgAOy",
        "outputId": "62316579-e936-41d4-e968-e19744282aff"
      },
      "execution_count": 5,
      "outputs": [
        {
          "output_type": "execute_result",
          "data": {
            "text/plain": [
              "array([ True, False, False, False,  True, False, False])"
            ]
          },
          "metadata": {},
          "execution_count": 5
        }
      ]
    },
    {
      "cell_type": "code",
      "source": [
        "data[names == 'Hasan']"
      ],
      "metadata": {
        "colab": {
          "base_uri": "https://localhost:8080/"
        },
        "id": "DolpYCzXgK4W",
        "outputId": "200bd38c-bffe-4d50-9192-ee8d9d617027"
      },
      "execution_count": 6,
      "outputs": [
        {
          "output_type": "execute_result",
          "data": {
            "text/plain": [
              "array([[ 0.12194904,  0.97486309,  1.05364348, -0.88595434],\n",
              "       [ 0.00818903,  0.1306919 ,  1.8499444 ,  1.08680961]])"
            ]
          },
          "metadata": {},
          "execution_count": 6
        }
      ]
    },
    {
      "cell_type": "code",
      "source": [
        "data[names == 'Elyor']"
      ],
      "metadata": {
        "colab": {
          "base_uri": "https://localhost:8080/"
        },
        "id": "B_Q9NRuEgmMh",
        "outputId": "cd5eca6e-1211-462b-ed26-f0067fd30433"
      },
      "execution_count": 7,
      "outputs": [
        {
          "output_type": "execute_result",
          "data": {
            "text/plain": [
              "array([[-1.63886384,  0.69013315,  0.57289597, -1.07862725],\n",
              "       [ 0.36467195,  0.13818657, -1.57613735, -0.12333191]])"
            ]
          },
          "metadata": {},
          "execution_count": 7
        }
      ]
    },
    {
      "cell_type": "code",
      "source": [
        "data[names == 'hasan', 2:]"
      ],
      "metadata": {
        "colab": {
          "base_uri": "https://localhost:8080/"
        },
        "id": "UJ5qVepjnkfW",
        "outputId": "74cbb280-046a-43b1-cb86-c8f83bb53726"
      },
      "execution_count": 13,
      "outputs": [
        {
          "output_type": "execute_result",
          "data": {
            "text/plain": [
              "array([], shape=(0, 2), dtype=float64)"
            ]
          },
          "metadata": {},
          "execution_count": 13
        }
      ]
    },
    {
      "cell_type": "code",
      "source": [
        "data"
      ],
      "metadata": {
        "colab": {
          "base_uri": "https://localhost:8080/"
        },
        "id": "6gBRiezLnvuS",
        "outputId": "9be362a7-ed7d-41ab-aa01-3d4b43cae93a"
      },
      "execution_count": 14,
      "outputs": [
        {
          "output_type": "execute_result",
          "data": {
            "text/plain": [
              "array([[ 0.12194904,  0.97486309,  1.05364348, -0.88595434],\n",
              "       [-1.38534694, -0.51530714,  0.14284457,  0.19179314],\n",
              "       [-0.43527724,  0.30184811, -1.64425482,  0.17216168],\n",
              "       [-1.63886384,  0.69013315,  0.57289597, -1.07862725],\n",
              "       [ 0.00818903,  0.1306919 ,  1.8499444 ,  1.08680961],\n",
              "       [-0.28880973,  0.25855571, -0.29687497, -0.3645353 ],\n",
              "       [ 0.36467195,  0.13818657, -1.57613735, -0.12333191]])"
            ]
          },
          "metadata": {},
          "execution_count": 14
        }
      ]
    },
    {
      "cell_type": "code",
      "source": [
        "data[names == 'Hasan', :2]"
      ],
      "metadata": {
        "colab": {
          "base_uri": "https://localhost:8080/"
        },
        "id": "yTO-uKe4od6F",
        "outputId": "8d9b49e0-367c-48ce-aabc-b5e5f538d2de"
      },
      "execution_count": 15,
      "outputs": [
        {
          "output_type": "execute_result",
          "data": {
            "text/plain": [
              "array([[0.12194904, 0.97486309],\n",
              "       [0.00818903, 0.1306919 ]])"
            ]
          },
          "metadata": {},
          "execution_count": 15
        }
      ]
    },
    {
      "cell_type": "code",
      "source": [
        "data[names != 'Hasan']"
      ],
      "metadata": {
        "colab": {
          "base_uri": "https://localhost:8080/"
        },
        "id": "-PaEyUvwolmZ",
        "outputId": "72e0dafb-2502-41f3-dff8-4e9a36533314"
      },
      "execution_count": 16,
      "outputs": [
        {
          "output_type": "execute_result",
          "data": {
            "text/plain": [
              "array([[-1.38534694, -0.51530714,  0.14284457,  0.19179314],\n",
              "       [-0.43527724,  0.30184811, -1.64425482,  0.17216168],\n",
              "       [-1.63886384,  0.69013315,  0.57289597, -1.07862725],\n",
              "       [-0.28880973,  0.25855571, -0.29687497, -0.3645353 ],\n",
              "       [ 0.36467195,  0.13818657, -1.57613735, -0.12333191]])"
            ]
          },
          "metadata": {},
          "execution_count": 16
        }
      ]
    },
    {
      "cell_type": "code",
      "source": [
        "data[~(names == 'Elyor')]"
      ],
      "metadata": {
        "colab": {
          "base_uri": "https://localhost:8080/"
        },
        "id": "cUyWT6VbotO1",
        "outputId": "fb1b0481-6eda-4367-969b-2f591615c0bf"
      },
      "execution_count": 31,
      "outputs": [
        {
          "output_type": "execute_result",
          "data": {
            "text/plain": [
              "array([ True,  True, False,  True, False])"
            ]
          },
          "metadata": {},
          "execution_count": 31
        }
      ]
    },
    {
      "cell_type": "code",
      "source": [
        "print(names)\n",
        "print(data)"
      ],
      "metadata": {
        "colab": {
          "base_uri": "https://localhost:8080/"
        },
        "id": "oEmYxvCCpA1p",
        "outputId": "cd240873-b5e1-46dc-b566-1f123f82e5e9"
      },
      "execution_count": 28,
      "outputs": [
        {
          "output_type": "stream",
          "name": "stdout",
          "text": [
            "['Hasan' 'Husan' 'Mirzabek' 'Elyor' 'Hasan' 'Javohir' 'Elyor']\n",
            "[ True  True False False  True False False]\n"
          ]
        }
      ]
    },
    {
      "cell_type": "code",
      "source": [
        "mask = (names == 'Hasan') | (names == 'Husan')\n",
        "mask"
      ],
      "metadata": {
        "colab": {
          "base_uri": "https://localhost:8080/"
        },
        "id": "hXXgg_ZCpNH1",
        "outputId": "03936bc3-31ff-4bf7-b714-f84e642f08d9"
      },
      "execution_count": 29,
      "outputs": [
        {
          "output_type": "execute_result",
          "data": {
            "text/plain": [
              "array([ True,  True, False, False,  True, False, False])"
            ]
          },
          "metadata": {},
          "execution_count": 29
        }
      ]
    },
    {
      "cell_type": "code",
      "source": [
        "data[mask]"
      ],
      "metadata": {
        "colab": {
          "base_uri": "https://localhost:8080/"
        },
        "id": "GK95tJEzpgRT",
        "outputId": "ed536743-df82-483a-c625-fed5752cac46"
      },
      "execution_count": 30,
      "outputs": [
        {
          "output_type": "execute_result",
          "data": {
            "text/plain": [
              "array([ True,  True,  True])"
            ]
          },
          "metadata": {},
          "execution_count": 30
        }
      ]
    },
    {
      "cell_type": "code",
      "source": [
        "data = np.random.randn(7, 4)\n",
        "data"
      ],
      "metadata": {
        "colab": {
          "base_uri": "https://localhost:8080/"
        },
        "id": "KFb5zadRqzyt",
        "outputId": "91a89173-735f-46c0-e638-e82a4e428682"
      },
      "execution_count": 32,
      "outputs": [
        {
          "output_type": "execute_result",
          "data": {
            "text/plain": [
              "array([[ 2.35845109,  0.15347028, -1.13353157, -0.84478102],\n",
              "       [ 1.06783749, -2.34022049, -0.96204818,  1.57893014],\n",
              "       [-0.09444822,  1.69527418,  0.91238399, -0.38587154],\n",
              "       [-0.42541788, -0.35751374, -1.64844633, -0.3350685 ],\n",
              "       [-0.33803335,  0.36671356, -0.11766371, -0.62872513],\n",
              "       [-1.57657585, -0.12567629, -0.35991629, -0.13336568],\n",
              "       [-0.66511359, -0.53660061,  0.39557506, -0.57261067]])"
            ]
          },
          "metadata": {},
          "execution_count": 32
        }
      ]
    },
    {
      "cell_type": "code",
      "source": [
        "print(names)\n",
        "print(data)"
      ],
      "metadata": {
        "colab": {
          "base_uri": "https://localhost:8080/"
        },
        "id": "vP-zz1rOrFFu",
        "outputId": "ac9df7e5-13ec-46a2-f526-21e4922a5a81"
      },
      "execution_count": 33,
      "outputs": [
        {
          "output_type": "stream",
          "name": "stdout",
          "text": [
            "['Hasan' 'Husan' 'Mirzabek' 'Elyor' 'Hasan' 'Javohir' 'Elyor']\n",
            "[[ 2.35845109  0.15347028 -1.13353157 -0.84478102]\n",
            " [ 1.06783749 -2.34022049 -0.96204818  1.57893014]\n",
            " [-0.09444822  1.69527418  0.91238399 -0.38587154]\n",
            " [-0.42541788 -0.35751374 -1.64844633 -0.3350685 ]\n",
            " [-0.33803335  0.36671356 -0.11766371 -0.62872513]\n",
            " [-1.57657585 -0.12567629 -0.35991629 -0.13336568]\n",
            " [-0.66511359 -0.53660061  0.39557506 -0.57261067]]\n"
          ]
        }
      ]
    },
    {
      "cell_type": "code",
      "source": [
        "mask = (names == 'Hasan') | (names == 'Husan')\n",
        "mask"
      ],
      "metadata": {
        "colab": {
          "base_uri": "https://localhost:8080/"
        },
        "id": "EtQPIpairJgt",
        "outputId": "7fd3b919-862f-44b1-c3e2-3a1a4d9c74ea"
      },
      "execution_count": 34,
      "outputs": [
        {
          "output_type": "execute_result",
          "data": {
            "text/plain": [
              "array([ True,  True, False, False,  True, False, False])"
            ]
          },
          "metadata": {},
          "execution_count": 34
        }
      ]
    },
    {
      "cell_type": "code",
      "source": [
        "data[mask]"
      ],
      "metadata": {
        "colab": {
          "base_uri": "https://localhost:8080/"
        },
        "id": "27Qa5tAJrUZJ",
        "outputId": "569b6f28-4c64-4ced-947f-15cc0095fcd6"
      },
      "execution_count": 36,
      "outputs": [
        {
          "output_type": "execute_result",
          "data": {
            "text/plain": [
              "array([[ 2.35845109,  0.15347028, -1.13353157, -0.84478102],\n",
              "       [ 1.06783749, -2.34022049, -0.96204818,  1.57893014],\n",
              "       [-0.33803335,  0.36671356, -0.11766371, -0.62872513]])"
            ]
          },
          "metadata": {},
          "execution_count": 36
        }
      ]
    },
    {
      "cell_type": "code",
      "source": [
        "data"
      ],
      "metadata": {
        "colab": {
          "base_uri": "https://localhost:8080/"
        },
        "id": "RhREb5_hrYKF",
        "outputId": "4140b4f0-b2f8-4f59-ffe9-40929c6b2bf0"
      },
      "execution_count": 37,
      "outputs": [
        {
          "output_type": "execute_result",
          "data": {
            "text/plain": [
              "array([[ 2.35845109,  0.15347028, -1.13353157, -0.84478102],\n",
              "       [ 1.06783749, -2.34022049, -0.96204818,  1.57893014],\n",
              "       [-0.09444822,  1.69527418,  0.91238399, -0.38587154],\n",
              "       [-0.42541788, -0.35751374, -1.64844633, -0.3350685 ],\n",
              "       [-0.33803335,  0.36671356, -0.11766371, -0.62872513],\n",
              "       [-1.57657585, -0.12567629, -0.35991629, -0.13336568],\n",
              "       [-0.66511359, -0.53660061,  0.39557506, -0.57261067]])"
            ]
          },
          "metadata": {},
          "execution_count": 37
        }
      ]
    },
    {
      "cell_type": "code",
      "source": [
        "data[data > 0]"
      ],
      "metadata": {
        "colab": {
          "base_uri": "https://localhost:8080/"
        },
        "id": "aiS8K1qvrq-H",
        "outputId": "5c40bab3-f78b-4306-8d81-430dd708d444"
      },
      "execution_count": 38,
      "outputs": [
        {
          "output_type": "execute_result",
          "data": {
            "text/plain": [
              "array([2.35845109, 0.15347028, 1.06783749, 1.57893014, 1.69527418,\n",
              "       0.91238399, 0.36671356, 0.39557506])"
            ]
          },
          "metadata": {},
          "execution_count": 38
        }
      ]
    },
    {
      "cell_type": "code",
      "source": [
        "data[data < 0]"
      ],
      "metadata": {
        "colab": {
          "base_uri": "https://localhost:8080/"
        },
        "id": "GuBW2VbMrwYl",
        "outputId": "779023bc-8534-4642-fcf5-3bd36e4c7a5e"
      },
      "execution_count": 39,
      "outputs": [
        {
          "output_type": "execute_result",
          "data": {
            "text/plain": [
              "array([-1.13353157, -0.84478102, -2.34022049, -0.96204818, -0.09444822,\n",
              "       -0.38587154, -0.42541788, -0.35751374, -1.64844633, -0.3350685 ,\n",
              "       -0.33803335, -0.11766371, -0.62872513, -1.57657585, -0.12567629,\n",
              "       -0.35991629, -0.13336568, -0.66511359, -0.53660061, -0.57261067])"
            ]
          },
          "metadata": {},
          "execution_count": 39
        }
      ]
    },
    {
      "cell_type": "code",
      "source": [
        "data[data < 0] = 0\n",
        "data"
      ],
      "metadata": {
        "colab": {
          "base_uri": "https://localhost:8080/"
        },
        "id": "sEkW6dcSr0YP",
        "outputId": "ae6df7a6-b814-4147-c918-50263243bcbe"
      },
      "execution_count": 40,
      "outputs": [
        {
          "output_type": "execute_result",
          "data": {
            "text/plain": [
              "array([[2.35845109, 0.15347028, 0.        , 0.        ],\n",
              "       [1.06783749, 0.        , 0.        , 1.57893014],\n",
              "       [0.        , 1.69527418, 0.91238399, 0.        ],\n",
              "       [0.        , 0.        , 0.        , 0.        ],\n",
              "       [0.        , 0.36671356, 0.        , 0.        ],\n",
              "       [0.        , 0.        , 0.        , 0.        ],\n",
              "       [0.        , 0.        , 0.39557506, 0.        ]])"
            ]
          },
          "metadata": {},
          "execution_count": 40
        }
      ]
    },
    {
      "cell_type": "code",
      "source": [
        "data[data==0] = 1"
      ],
      "metadata": {
        "id": "XbYSCbD9r5Om"
      },
      "execution_count": 42,
      "outputs": []
    },
    {
      "cell_type": "code",
      "source": [
        "data"
      ],
      "metadata": {
        "colab": {
          "base_uri": "https://localhost:8080/"
        },
        "id": "HorYOp3csRKk",
        "outputId": "3b1bc552-b285-469f-aeba-7997b5ae9843"
      },
      "execution_count": 43,
      "outputs": [
        {
          "output_type": "execute_result",
          "data": {
            "text/plain": [
              "array([[2.35845109, 0.15347028, 1.        , 1.        ],\n",
              "       [1.06783749, 1.        , 1.        , 1.57893014],\n",
              "       [1.        , 1.69527418, 0.91238399, 1.        ],\n",
              "       [1.        , 1.        , 1.        , 1.        ],\n",
              "       [1.        , 0.36671356, 1.        , 1.        ],\n",
              "       [1.        , 1.        , 1.        , 1.        ],\n",
              "       [1.        , 1.        , 0.39557506, 1.        ]])"
            ]
          },
          "metadata": {},
          "execution_count": 43
        }
      ]
    },
    {
      "cell_type": "code",
      "source": [
        "data[data != 1] = 2"
      ],
      "metadata": {
        "id": "KyAnR76ZsW85"
      },
      "execution_count": 46,
      "outputs": []
    },
    {
      "cell_type": "code",
      "source": [
        "data"
      ],
      "metadata": {
        "colab": {
          "base_uri": "https://localhost:8080/"
        },
        "id": "Xm8Ht9Xzsdk_",
        "outputId": "c68bdd8c-fd55-4756-b077-c23babdd3aac"
      },
      "execution_count": 47,
      "outputs": [
        {
          "output_type": "execute_result",
          "data": {
            "text/plain": [
              "array([[2., 2., 2., 2.],\n",
              "       [2., 2., 2., 2.],\n",
              "       [2., 2., 2., 2.],\n",
              "       [2., 2., 2., 2.],\n",
              "       [2., 2., 2., 2.],\n",
              "       [2., 2., 2., 2.],\n",
              "       [2., 2., 2., 2.]])"
            ]
          },
          "metadata": {},
          "execution_count": 47
        }
      ]
    },
    {
      "cell_type": "code",
      "source": [],
      "metadata": {
        "id": "oNe3y4OFseDZ"
      },
      "execution_count": null,
      "outputs": []
    }
  ]
}